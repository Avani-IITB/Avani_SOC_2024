{
 "cells": [
  {
   "cell_type": "code",
   "execution_count": 1,
   "id": "da2dc7d4-a7b1-4938-9c10-a4a0075c411f",
   "metadata": {},
   "outputs": [],
   "source": [
    "import numpy as np\n",
    "import pandas as pd\n",
    "import matplotlib.pyplot as plt\n"
   ]
  },
  {
   "cell_type": "code",
   "execution_count": 3,
   "id": "8abfa3c7-76e8-4932-8535-d763be2d28d7",
   "metadata": {},
   "outputs": [],
   "source": [
    "#Gradient Descent is an algorithm that finds best fit line for a given training data set"
   ]
  },
  {
   "cell_type": "code",
   "execution_count": 5,
   "id": "40612a8d-65d3-41cf-bbb5-0ede5e7171b8",
   "metadata": {},
   "outputs": [],
   "source": [
    "#We want the minimum value of the mean square error MSE(Cost)"
   ]
  },
  {
   "cell_type": "code",
   "execution_count": 6,
   "id": "252aad78-d8d7-4a62-893f-0b2e538368ad",
   "metadata": {},
   "outputs": [],
   "source": [
    "#m=m-learningrate*(d/dm)  and c= c- learningrate*(d/dc)"
   ]
  },
  {
   "cell_type": "code",
   "execution_count": null,
   "id": "782fc7d0-238c-45e1-97e0-cceea0fd7469",
   "metadata": {},
   "outputs": [],
   "source": []
  }
 ],
 "metadata": {
  "kernelspec": {
   "display_name": "Python 3 (ipykernel)",
   "language": "python",
   "name": "python3"
  },
  "language_info": {
   "codemirror_mode": {
    "name": "ipython",
    "version": 3
   },
   "file_extension": ".py",
   "mimetype": "text/x-python",
   "name": "python",
   "nbconvert_exporter": "python",
   "pygments_lexer": "ipython3",
   "version": "3.12.2"
  }
 },
 "nbformat": 4,
 "nbformat_minor": 5
}

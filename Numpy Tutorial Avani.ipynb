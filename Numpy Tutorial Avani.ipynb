{
 "cells": [
  {
   "cell_type": "markdown",
   "id": "6ca11f86-d329-4612-b455-c9f20bf45ea7",
   "metadata": {},
   "source": [
    "# Welcome to numpy tutorial!"
   ]
  },
  {
   "cell_type": "code",
   "execution_count": 1,
   "id": "de115ba3-ef4f-490d-83ee-f93db7472c1b",
   "metadata": {},
   "outputs": [],
   "source": [
    "import numpy as np"
   ]
  },
  {
   "cell_type": "code",
   "execution_count": 13,
   "id": "6c9a1c15-fe25-4e72-9f2c-ea4acc61cb14",
   "metadata": {},
   "outputs": [],
   "source": [
    "myarr= np.array([ [3, 6, 323333333339, 7 ]], np.int64) #memory allocation is in your hands\n"
   ]
  },
  {
   "cell_type": "code",
   "execution_count": 11,
   "id": "cba9aa13-e61a-4bdb-86c8-0397ad3efe48",
   "metadata": {},
   "outputs": [
    {
     "data": {
      "text/plain": [
       "array([           3,            6, 323333333339,            7])"
      ]
     },
     "execution_count": 11,
     "metadata": {},
     "output_type": "execute_result"
    }
   ],
   "source": [
    "myarr"
   ]
  },
  {
   "cell_type": "code",
   "execution_count": 18,
   "id": "fac5c3f1-c546-45ce-82d7-cab10b30ce5d",
   "metadata": {},
   "outputs": [
    {
     "data": {
      "text/plain": [
       "np.int64(6)"
      ]
     },
     "execution_count": 18,
     "metadata": {},
     "output_type": "execute_result"
    }
   ],
   "source": [
    "myarr [0,1] # 0th row and 1st column is 6"
   ]
  },
  {
   "cell_type": "code",
   "execution_count": 19,
   "id": "e98b3b71-daa1-4adc-9200-fefb200dc994",
   "metadata": {},
   "outputs": [
    {
     "data": {
      "text/plain": [
       "np.int64(3)"
      ]
     },
     "execution_count": 19,
     "metadata": {},
     "output_type": "execute_result"
    }
   ],
   "source": [
    "myarr [0,0] #0th row and 0th column is 3"
   ]
  },
  {
   "cell_type": "code",
   "execution_count": 20,
   "id": "621f1eb6-42b7-4d50-a881-9b80725dac3a",
   "metadata": {},
   "outputs": [
    {
     "data": {
      "text/plain": [
       "dtype('int64')"
      ]
     },
     "execution_count": 20,
     "metadata": {},
     "output_type": "execute_result"
    }
   ],
   "source": [
    "myarr.dtype"
   ]
  },
  {
   "cell_type": "code",
   "execution_count": 23,
   "id": "68c0567a-3e16-42c8-a06b-0b9135891c60",
   "metadata": {},
   "outputs": [],
   "source": [
    "myarr [0,1]=45 #changed element at 0,1"
   ]
  },
  {
   "cell_type": "code",
   "execution_count": 22,
   "id": "efebcda0-fbb9-4fd3-bd45-700b1c9bf7b5",
   "metadata": {},
   "outputs": [
    {
     "data": {
      "text/plain": [
       "array([[           3,           45, 323333333339,            7]])"
      ]
     },
     "execution_count": 22,
     "metadata": {},
     "output_type": "execute_result"
    }
   ],
   "source": [
    "myarr"
   ]
  },
  {
   "cell_type": "code",
   "execution_count": 24,
   "id": "4ae0b6f0-fcfc-49d0-a3e3-aa1139416168",
   "metadata": {},
   "outputs": [],
   "source": [
    "x = [[1, 2, 3], [4,5,6], [7,1,0]]"
   ]
  },
  {
   "cell_type": "code",
   "execution_count": 27,
   "id": "c5fe7619-14b7-4eeb-b5cc-7a0c9e6e4496",
   "metadata": {},
   "outputs": [],
   "source": [
    "ar= np.array(x)"
   ]
  },
  {
   "cell_type": "code",
   "execution_count": 28,
   "id": "366ab97a-6ee9-4294-9704-477a3fa06b06",
   "metadata": {},
   "outputs": [
    {
     "data": {
      "text/plain": [
       "array([[1, 2, 3],\n",
       "       [4, 5, 6],\n",
       "       [7, 1, 0]])"
      ]
     },
     "execution_count": 28,
     "metadata": {},
     "output_type": "execute_result"
    }
   ],
   "source": [
    "ar"
   ]
  },
  {
   "cell_type": "code",
   "execution_count": 29,
   "id": "b7c6d4c9-2f7e-4430-b2b0-61be1b1d07ad",
   "metadata": {},
   "outputs": [
    {
     "data": {
      "text/plain": [
       "array([12,  8,  9])"
      ]
     },
     "execution_count": 29,
     "metadata": {},
     "output_type": "execute_result"
    }
   ],
   "source": [
    "ar.sum(axis=0) #vertical summation, axis 0"
   ]
  },
  {
   "cell_type": "code",
   "execution_count": 30,
   "id": "a5ef55d9-35ae-4ebe-afb4-15d988d6aa11",
   "metadata": {},
   "outputs": [
    {
     "data": {
      "text/plain": [
       "array([ 6, 15,  8])"
      ]
     },
     "execution_count": 30,
     "metadata": {},
     "output_type": "execute_result"
    }
   ],
   "source": [
    "ar.sum(axis=1) #horizontal summation, axis 1"
   ]
  },
  {
   "cell_type": "code",
   "execution_count": 32,
   "id": "178a2ae5-100c-4e9f-bc64-e3549377fd93",
   "metadata": {},
   "outputs": [
    {
     "data": {
      "text/plain": [
       "array([[1, 4, 7],\n",
       "       [2, 5, 1],\n",
       "       [3, 6, 0]])"
      ]
     },
     "execution_count": 32,
     "metadata": {},
     "output_type": "execute_result"
    }
   ],
   "source": [
    "ar.T #Transpose of ar"
   ]
  },
  {
   "cell_type": "code",
   "execution_count": 33,
   "id": "8ebdf367-ec26-4221-a3ab-c38e53b62351",
   "metadata": {},
   "outputs": [
    {
     "data": {
      "text/plain": [
       "<numpy.flatiter at 0x1985c71b5f0>"
      ]
     },
     "execution_count": 33,
     "metadata": {},
     "output_type": "execute_result"
    }
   ],
   "source": [
    "ar.flat"
   ]
  },
  {
   "cell_type": "code",
   "execution_count": 37,
   "id": "b3d5c21b-1c26-494a-b77f-8622fce3b0f2",
   "metadata": {},
   "outputs": [
    {
     "name": "stdout",
     "output_type": "stream",
     "text": [
      "1\n",
      "2\n",
      "3\n",
      "4\n",
      "5\n",
      "6\n",
      "7\n",
      "1\n",
      "0\n"
     ]
    }
   ],
   "source": [
    "for item in ar.flat:\n",
    "    print (item)"
   ]
  },
  {
   "cell_type": "code",
   "execution_count": 38,
   "id": "8dea41cd-3a4c-48b6-a1ab-7a800bcedfd2",
   "metadata": {},
   "outputs": [
    {
     "data": {
      "text/plain": [
       "2"
      ]
     },
     "execution_count": 38,
     "metadata": {},
     "output_type": "execute_result"
    }
   ],
   "source": [
    "ar.ndim #No. of dimensions"
   ]
  },
  {
   "cell_type": "code",
   "execution_count": 39,
   "id": "e1bfaaba-3099-4475-a12d-e66d96453674",
   "metadata": {},
   "outputs": [
    {
     "data": {
      "text/plain": [
       "9"
      ]
     },
     "execution_count": 39,
     "metadata": {},
     "output_type": "execute_result"
    }
   ],
   "source": [
    "ar.size #size of array"
   ]
  },
  {
   "cell_type": "code",
   "execution_count": 41,
   "id": "c5fbc824-6c90-4c60-8cbb-1abe1c2123e1",
   "metadata": {},
   "outputs": [
    {
     "data": {
      "text/plain": [
       "72"
      ]
     },
     "execution_count": 41,
     "metadata": {},
     "output_type": "execute_result"
    }
   ],
   "source": [
    "ar.nbytes #total bytes consumed by the elements of the array"
   ]
  },
  {
   "cell_type": "code",
   "execution_count": 49,
   "id": "7b59b90b-0e68-41e0-a803-9580b391b0d2",
   "metadata": {},
   "outputs": [],
   "source": [
    "one = np.array([1,2,3,8,6])"
   ]
  },
  {
   "cell_type": "code",
   "execution_count": 50,
   "id": "299a5f9e-01cd-464f-9936-3b092d951b7d",
   "metadata": {},
   "outputs": [
    {
     "data": {
      "text/plain": [
       "np.int64(3)"
      ]
     },
     "execution_count": 50,
     "metadata": {},
     "output_type": "execute_result"
    }
   ],
   "source": [
    "one.argmax()"
   ]
  },
  {
   "cell_type": "code",
   "execution_count": 51,
   "id": "1566bab2-9605-4eb9-ab17-7d3e3b7dae26",
   "metadata": {},
   "outputs": [
    {
     "data": {
      "text/plain": [
       "np.int64(0)"
      ]
     },
     "execution_count": 51,
     "metadata": {},
     "output_type": "execute_result"
    }
   ],
   "source": [
    "one.argmin()"
   ]
  },
  {
   "cell_type": "code",
   "execution_count": 52,
   "id": "de7ee691-cca8-4712-bb41-39469f68bfdc",
   "metadata": {},
   "outputs": [
    {
     "data": {
      "text/plain": [
       "array([0, 1, 2, 4, 3])"
      ]
     },
     "execution_count": 52,
     "metadata": {},
     "output_type": "execute_result"
    }
   ],
   "source": [
    "one.argsort()"
   ]
  },
  {
   "cell_type": "code",
   "execution_count": 53,
   "id": "19fc33eb-a077-4dcb-a37e-84baa106b8a7",
   "metadata": {},
   "outputs": [
    {
     "data": {
      "text/plain": [
       "array([[0, 1, 2],\n",
       "       [0, 1, 2],\n",
       "       [2, 1, 0]])"
      ]
     },
     "execution_count": 53,
     "metadata": {},
     "output_type": "execute_result"
    }
   ],
   "source": [
    "ar.argsort()"
   ]
  },
  {
   "cell_type": "code",
   "execution_count": 54,
   "id": "6367656d-8cf6-4adc-a4e0-457334ecb4e0",
   "metadata": {},
   "outputs": [
    {
     "data": {
      "text/plain": [
       "np.int64(8)"
      ]
     },
     "execution_count": 54,
     "metadata": {},
     "output_type": "execute_result"
    }
   ],
   "source": [
    "ar.argmin()"
   ]
  },
  {
   "cell_type": "code",
   "execution_count": 55,
   "id": "c6e3fc4e-46a5-4ee3-bad0-e36225372687",
   "metadata": {},
   "outputs": [
    {
     "data": {
      "text/plain": [
       "np.int64(6)"
      ]
     },
     "execution_count": 55,
     "metadata": {},
     "output_type": "execute_result"
    }
   ],
   "source": [
    "ar.argmax()"
   ]
  },
  {
   "cell_type": "code",
   "execution_count": 57,
   "id": "7ad36d17-2806-4504-afca-367e072fdb31",
   "metadata": {},
   "outputs": [
    {
     "data": {
      "text/plain": [
       "array([2, 1, 1])"
      ]
     },
     "execution_count": 57,
     "metadata": {},
     "output_type": "execute_result"
    }
   ],
   "source": [
    "ar.argmax(axis=0)"
   ]
  },
  {
   "cell_type": "code",
   "execution_count": 59,
   "id": "e035f208-f697-4463-abb0-cb32b9d61fd3",
   "metadata": {},
   "outputs": [
    {
     "data": {
      "text/plain": [
       "array([2, 2, 0])"
      ]
     },
     "execution_count": 59,
     "metadata": {},
     "output_type": "execute_result"
    }
   ],
   "source": [
    "ar.argmax(axis=1)"
   ]
  },
  {
   "cell_type": "code",
   "execution_count": 60,
   "id": "1c325862-fd05-46e5-83e3-78de74dcdf92",
   "metadata": {},
   "outputs": [
    {
     "data": {
      "text/plain": [
       "array([1, 2, 3, 4, 5, 6, 7, 1, 0])"
      ]
     },
     "execution_count": 60,
     "metadata": {},
     "output_type": "execute_result"
    }
   ],
   "source": [
    "ar.ravel() #brings all in one line"
   ]
  },
  {
   "cell_type": "code",
   "execution_count": 63,
   "id": "37f913fa-9064-46ec-8eac-b5d387f9040c",
   "metadata": {},
   "outputs": [
    {
     "data": {
      "text/plain": [
       "array([[1],\n",
       "       [2],\n",
       "       [3],\n",
       "       [4],\n",
       "       [5],\n",
       "       [6],\n",
       "       [7],\n",
       "       [1],\n",
       "       [0]])"
      ]
     },
     "execution_count": 63,
     "metadata": {},
     "output_type": "execute_result"
    }
   ],
   "source": [
    "ar.reshape(9,1)"
   ]
  },
  {
   "cell_type": "code",
   "execution_count": 84,
   "id": "b2113213-fc4b-426a-80a9-fe8634429455",
   "metadata": {},
   "outputs": [
    {
     "data": {
      "text/plain": [
       "array([[ 4,  0, 16],\n",
       "       [24, 12, 20],\n",
       "       [ 4,  0,  4]])"
      ]
     },
     "execution_count": 84,
     "metadata": {},
     "output_type": "execute_result"
    }
   ],
   "source": [
    "ar.reshape(3,3)"
   ]
  },
  {
   "cell_type": "code",
   "execution_count": 85,
   "id": "a6dff558-8c57-4d54-9dc6-785189652563",
   "metadata": {},
   "outputs": [],
   "source": [
    "ar2= np.array([[1,0,4],[6,3,5],[1,0,1]])"
   ]
  },
  {
   "cell_type": "code",
   "execution_count": null,
   "id": "020b97ca-b8dd-461f-9125-8871dd08458b",
   "metadata": {},
   "outputs": [],
   "source": []
  }
 ],
 "metadata": {
  "kernelspec": {
   "display_name": "Python 3 (ipykernel)",
   "language": "python",
   "name": "python3"
  },
  "language_info": {
   "codemirror_mode": {
    "name": "ipython",
    "version": 3
   },
   "file_extension": ".py",
   "mimetype": "text/x-python",
   "name": "python",
   "nbconvert_exporter": "python",
   "pygments_lexer": "ipython3",
   "version": "3.12.2"
  }
 },
 "nbformat": 4,
 "nbformat_minor": 5
}
